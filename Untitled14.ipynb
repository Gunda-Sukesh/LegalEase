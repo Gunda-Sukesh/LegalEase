{
  "cells": [
    {
      "cell_type": "code",
      "execution_count": 54,
      "metadata": {
        "colab": {
          "base_uri": "https://localhost:8080/"
        },
        "id": "1kLkYGXtpVLq",
        "outputId": "27424007-071f-4922-8717-f4fb23f05a2a"
      },
      "outputs": [
        {
          "name": "stdout",
          "output_type": "stream",
          "text": [
            "Requirement already satisfied: sentence_transformers in /usr/local/lib/python3.10/dist-packages (3.2.1)\n",
            "Requirement already satisfied: transformers<5.0.0,>=4.41.0 in /usr/local/lib/python3.10/dist-packages (from sentence_transformers) (4.44.2)\n",
            "Requirement already satisfied: tqdm in /usr/local/lib/python3.10/dist-packages (from sentence_transformers) (4.66.5)\n",
            "Requirement already satisfied: torch>=1.11.0 in /usr/local/lib/python3.10/dist-packages (from sentence_transformers) (2.5.0+cu121)\n",
            "Requirement already satisfied: scikit-learn in /usr/local/lib/python3.10/dist-packages (from sentence_transformers) (1.5.2)\n",
            "Requirement already satisfied: scipy in /usr/local/lib/python3.10/dist-packages (from sentence_transformers) (1.13.1)\n",
            "Requirement already satisfied: huggingface-hub>=0.20.0 in /usr/local/lib/python3.10/dist-packages (from sentence_transformers) (0.24.7)\n",
            "Requirement already satisfied: Pillow in /usr/local/lib/python3.10/dist-packages (from sentence_transformers) (10.4.0)\n",
            "Requirement already satisfied: filelock in /usr/local/lib/python3.10/dist-packages (from huggingface-hub>=0.20.0->sentence_transformers) (3.16.1)\n",
            "Requirement already satisfied: fsspec>=2023.5.0 in /usr/local/lib/python3.10/dist-packages (from huggingface-hub>=0.20.0->sentence_transformers) (2024.6.1)\n",
            "Requirement already satisfied: packaging>=20.9 in /usr/local/lib/python3.10/dist-packages (from huggingface-hub>=0.20.0->sentence_transformers) (24.1)\n",
            "Requirement already satisfied: pyyaml>=5.1 in /usr/local/lib/python3.10/dist-packages (from huggingface-hub>=0.20.0->sentence_transformers) (6.0.2)\n",
            "Requirement already satisfied: requests in /usr/local/lib/python3.10/dist-packages (from huggingface-hub>=0.20.0->sentence_transformers) (2.32.3)\n",
            "Requirement already satisfied: typing-extensions>=3.7.4.3 in /usr/local/lib/python3.10/dist-packages (from huggingface-hub>=0.20.0->sentence_transformers) (4.12.2)\n",
            "Requirement already satisfied: networkx in /usr/local/lib/python3.10/dist-packages (from torch>=1.11.0->sentence_transformers) (3.4.2)\n",
            "Requirement already satisfied: jinja2 in /usr/local/lib/python3.10/dist-packages (from torch>=1.11.0->sentence_transformers) (3.1.4)\n",
            "Requirement already satisfied: sympy==1.13.1 in /usr/local/lib/python3.10/dist-packages (from torch>=1.11.0->sentence_transformers) (1.13.1)\n",
            "Requirement already satisfied: mpmath<1.4,>=1.1.0 in /usr/local/lib/python3.10/dist-packages (from sympy==1.13.1->torch>=1.11.0->sentence_transformers) (1.3.0)\n",
            "Requirement already satisfied: numpy>=1.17 in /usr/local/lib/python3.10/dist-packages (from transformers<5.0.0,>=4.41.0->sentence_transformers) (1.26.4)\n",
            "Requirement already satisfied: regex!=2019.12.17 in /usr/local/lib/python3.10/dist-packages (from transformers<5.0.0,>=4.41.0->sentence_transformers) (2024.9.11)\n",
            "Requirement already satisfied: safetensors>=0.4.1 in /usr/local/lib/python3.10/dist-packages (from transformers<5.0.0,>=4.41.0->sentence_transformers) (0.4.5)\n",
            "Requirement already satisfied: tokenizers<0.20,>=0.19 in /usr/local/lib/python3.10/dist-packages (from transformers<5.0.0,>=4.41.0->sentence_transformers) (0.19.1)\n",
            "Requirement already satisfied: joblib>=1.2.0 in /usr/local/lib/python3.10/dist-packages (from scikit-learn->sentence_transformers) (1.4.2)\n",
            "Requirement already satisfied: threadpoolctl>=3.1.0 in /usr/local/lib/python3.10/dist-packages (from scikit-learn->sentence_transformers) (3.5.0)\n",
            "Requirement already satisfied: MarkupSafe>=2.0 in /usr/local/lib/python3.10/dist-packages (from jinja2->torch>=1.11.0->sentence_transformers) (3.0.2)\n",
            "Requirement already satisfied: charset-normalizer<4,>=2 in /usr/local/lib/python3.10/dist-packages (from requests->huggingface-hub>=0.20.0->sentence_transformers) (3.4.0)\n",
            "Requirement already satisfied: idna<4,>=2.5 in /usr/local/lib/python3.10/dist-packages (from requests->huggingface-hub>=0.20.0->sentence_transformers) (3.10)\n",
            "Requirement already satisfied: urllib3<3,>=1.21.1 in /usr/local/lib/python3.10/dist-packages (from requests->huggingface-hub>=0.20.0->sentence_transformers) (2.2.3)\n",
            "Requirement already satisfied: certifi>=2017.4.17 in /usr/local/lib/python3.10/dist-packages (from requests->huggingface-hub>=0.20.0->sentence_transformers) (2024.8.30)\n"
          ]
        }
      ],
      "source": [
        "pip install -r requirements.txt"
      ]
    },
    {
      "cell_type": "markdown",
      "metadata": {
        "id": "4j6fcxPSB33s"
      },
      "source": [
        "# Chroma DB"
      ]
    },
    {
      "cell_type": "code",
      "execution_count": 56,
      "metadata": {
        "colab": {
          "base_uri": "https://localhost:8080/"
        },
        "id": "L-qtrEy2p6Ym",
        "outputId": "3fe96a5e-4fbd-4110-cfca-2b7fce9b12ba"
      },
      "outputs": [
        {
          "data": {
            "text/plain": [
              "[Document(metadata={'source': '/content/schemes_data - Sheet1.csv', 'row': 0}, page_content='scheme_name: Thayi Bhagya Scheme\\ndetails: Under this scheme, the pregnant woman belonging to BPL family can avail delivery services free of cost in the registered private hospital near her house. She is not required to pay any charges right from the point of admission to discharge. The benefit is limited to the first two live deliveries.\\r\\nThe beneficiaries are identified through the ANC cards issued to them.\\r\\nThe scheme has been introduced in the six \"C\" category districts of Gulbarga, Bidar, Raichur, Koppal, Bijapur and Bagalkot and the backward district Chamarajanagar.\\r\\n\\r\\ni. Shortage of specialist doctors, especially the gynecologists, anesthetists and pediatricians at Taluk hospitals and CHCs, The posts of these specialists are mostly vacant in Government Hospitals.\\r\\nii. Though there are very large number of government health care institutions in the state, the shortage of these specialists is a big draw back in providing proper maternal and child health care.\\r\\niii.There are considerable number of specialist doctors in urban private hospitals.\\r\\niv. By entering into Public-Private partnership with these hospitals, rural women can be provided with facilities for proper institutional deliveries.\\r\\n\\r\\nThe hospitals having requisite facilities will be registered under the programme with the approval of District Health Society. The Hospitals will then sign an MOU with the Department. Government Hospitals can also participate in this scheme.\\r\\n\\r\\nSuch registered hospitals will be paid Rs. 3.00 lakhs per 100 deliveries, which include normal delivery, complicated deliveries, caesarian, forceps deliveries etc. These hospitals will be paid 10% ie., Rs.30,000 advance on participation in the scheme. This is to encourage more and more private hospitals to participate in the programme.\\r\\nThe Government Hospitals will be paid Rs. 1.50 lakhs for every 100 deliveries, out of which 50,000 goes to the Health Care Committee and the remaining is shared among the Hospital doctors, nurses and staff as per Yeshaswini guidelines.\\u200b\\nbenefits: The scheme provides benefits in the form of delivery services free of costs and others.\\r\\nWomen belonging to BPL families can avail totally cashless treatment in theses private hospitals or can avail delivery services free of cost in the registered private hospital near her house.\\r\\nRegistered private hospital will be available near her house.\\r\\nCandidate is not required to pay any charges right from the point of admission to discharge.\\r\\nFree checkup and medicines will be provided.\\neligibility: The benefit is limited to the first two deliveries.\\nThe candidate women must be residents of Karnataka government\\nThe hospital should have minimum 10 inpatient beds.\\nShould have proper functional Operation Theater and Delivery room.\\n24 hrs availability of gynecologists, anesthetists and pediatricians.\\nShould have link with Blood banks.\\nThe DHO has to identify such hospitals and invite them for partnership. Interested hospitals can sign the MOU.\\nSuch registered hospitals will be paid Rs. 3.00 lakhs per 100 deliveries, which include normal delivery, complicated deliveries, caesarean, forceps deliveries etc. These hospitals will be paid 10% ie., Rs.30,000 advance on participation in the scheme. This is to encourage more and more private hospitals to participate in the program.\\r\\nThe Government Hospitals will be paid Rs. 1.50 lakhs for every 100 deliveries, out of which 50,000 goes to the Health Care Committee and the remaining is shared among the Hospital doctors, nurses and staff as per Yeshaswini guidelines.\\u200b\\napp_process: Offline\\r\\nThe pregnant women have to register their names with the Junior Female Health Assistant of the area.\\r\\nThe women will issue ANC card.\\r\\nThe beneficiaries are identified through the ANC cards issued to them.\\r\\nThen candidates can avail benefits from nearer registered hospitals.\\r\\n\\r\\nCandidate applicants can contact the Head office from where the scheme is operated.\\r\\nEmail: prs-hfw@karnataka.gov.in\\ndocs_reqd: Domicile certificate\\r\\nBPL card or Ration card\\r\\nCaste certificate\\r\\nAadhar Card\\r\\nANC registration number along with noting whether it is first or second delivery'),\n",
              " Document(metadata={'source': '/content/schemes_data - Sheet1.csv', 'row': 1}, page_content='scheme_name: Maternity Benefit/Delivery Assistance (K.B.O.C.W.W.B)\\ndetails: \\nbenefits: Financial Assistance: ₹50,000/- for each of the first two (2) deliveries.\\neligibility: The applicant should be a Building/ Construction Worker (Unorganised Worker).\\r\\nThe applicant should be a minimum of 18 years of age.\\r\\nThe applicant should have engaged in building and construction work for at least 90 days in a given year.\\r\\nFor the Application of the Welfare Scheme:\\r\\nThe applicant should be a registered woman construction worker Under the Building and Other Construction Workers Welfare Board of Karnataka.\\r\\nThe applicant should be pregnant.\\r\\nAssistance is only for the first two (2) deliveries.\\napp_process: Online\\r\\nRegistration Process as a Building/ Construction Worker:\\r\\nStep 1: Visit the official Website of Karnataka Building & Other Construction Workers Welfare Board (KBOCWWB) and click on “Register”.\\r\\nStep 2: Select “Register as New Construction Worker” then enter your mobile number as per the Aadhaar Registered and verify with the received OTP.\\r\\nStep 3: From the dashboard, click on “Registration”.\\r\\nStep 4: Fill in all the mandatory details and upload the required documents. Click on “Final Submit” to complete the registration process.\\r\\nApplication Process of the Welfare Scheme:\\r\\nStep 1: Visit the official Website of Karnataka Building & Other Construction Workers Welfare Board (KBOCWWB) and click on “Login”.\\r\\nStep 2: Enter your registered mobile number and the received OTP.\\r\\nStep 3: From the dashboard, click on “Schemes” (After the user Registration is approved, the user can access the schemes page).\\r\\nStep 4: Select the concerned scheme. Fill in all the mandatory details and upload the required documents.\\r\\nStep 5: Review the details and check the declaration box. Now click on “Submit” to complete the application process.\\r\\nRenewal Process:\\r\\nStep 1: Visit the official Website of Karnataka Building & Other Construction Workers Welfare Board (KBOCWWB) and click on “Login”.\\r\\nStep 2: Enter your registered mobile number and the received OTP.\\r\\nStep 3: From the dashboard, click on “Renewal”. Fill in mandatory details and upload the required documents.\\r\\nStep 4: Review the details and click on “Submit” to complete the renewal process.\\r\\nNote:\\r\\nRenewal: Every construction worker must renew their registration with the Karnataka Building and Other Construction Workers Welfare Board every 3 years. If not renewed within this period, a 1-year grace period is granted. After that, the registration becomes invalid.\\r\\nHelpdesk:\\r\\nKarnataka Building And Other Construction Workers Welfare Board,\\r\\nAddress: Karmika Bhavan, Dairy Circle, Bannerghatta Road, Bangalore-29.\\r\\nOffice No: 080-29753078\\r\\nE-mail: labour.commissioner42@gmail.com\\ndocs_reqd: For Registration as a Building/ Construction Worker:\\r\\nEmployment Certificate/90 Days Work Certificate (Form V(A)/V(B)/V(C)/V(D)).\\r\\nAadhar Card (Self-Attested).\\r\\nRation Card(non-mandatory).\\r\\nAge Proof (Voter ID Card/Aadhar Card).\\r\\nFor the Application of the Welfare Scheme:\\r\\nProof of Identity/Smart card issued by the Board (Attested).\\r\\nAffidavit for second child.\\r\\nProof of Bank Account.\\r\\nPhoto of Child.\\r\\nEmployment Certificate.\\r\\nDischarge Summary.\\r\\nBirth Certificate of Child.\\r\\nFor the Renewal Process:\\r\\nEmployment Certificate/90 Days Work Certificate (Form V(A)/V(B)/V(C)/V(D)).'),\n",
              " Document(metadata={'source': '/content/schemes_data - Sheet1.csv', 'row': 2}, page_content='scheme_name: Medical Assistance (Karmika Arogya Bhagya) (K.B.O.C.W.W.B)\\ndetails: \\nbenefits: Financial Coverage: ₹300/- per day to the maximum of  ₹20,000/- for a continuous period of Hospitalization subject to actuals.\\r\\nNote: The assistance shall be towards hospitalisation for a minimum of 48 hours continuously.\\neligibility: For Registration as a Building/ Construction Worker:\\nThe applicant should be a Building/ Construction Worker (Unorganised Worker).\\nThe applicant should be a minimum of 18 years of age.\\nThe applicant should have engaged in building and construction work for at least 90 days in a given year.\\nFor the Application of the Welfare Scheme:\\nThe applicant should be a registered construction worker Under the Building and Other Construction Workers Welfare Board of Karnataka or his/her dependents.\\nThe beneficiary must be hospitalized for at least 48 continuous hours.\\nTreatment must be conducted in a government, private, or State Government recognised insurance scheme hospital.\\napp_process: Online\\r\\nRegistration Process as a Building/ Construction Worker:\\r\\nStep 1: Visit the official Website of Karnataka Building & Other Construction Workers Welfare Board (KBOCWWB) and click on “Register”.\\r\\nStep 2: Select “Register as New Construction Worker” then enter your mobile number as per the Aadhaar Registered and verify with the received OTP.\\r\\nStep 3: From the dashboard, click on “Registration”.\\r\\nStep 4: Fill in all the mandatory details and upload the required documents. Click on “Final Submit” to complete the registration process.\\r\\nApplication Process of the Welfare Scheme:\\r\\nStep 1: Visit the official Website of Karnataka Building & Other Construction Workers Welfare Board (KBOCWWB) and click on “Login”.\\r\\nStep 2: Enter your registered mobile number and the received OTP.\\r\\nStep 3: From the dashboard, click on “Schemes” (After the user Registration is approved, the user can access the schemes page).\\r\\nStep 4: Select the concerned scheme. Fill in all the mandatory details and upload the required documents.\\r\\nStep 5: Review the details and check the declaration box. Now click on “Submit” to complete the application process.\\r\\nRenewal Process:\\r\\nStep 1: Visit the official Website of Karnataka Building & Other Construction Workers Welfare Board (KBOCWWB) and click on “Login”.\\r\\nStep 2: Enter your registered mobile number and the received OTP.\\r\\nStep 3: From the dashboard, click on “Renewal”. Fill in mandatory details and upload the required documents.\\r\\nStep 4: Review the details and click on “Submit” to complete the renewal process.\\r\\nNote:\\r\\nRenewal: Every construction worker must renew their registration with the Karnataka Building and Other Construction Workers Welfare Board every 3 years. If not renewed within this period, a 1-year grace period is granted. After that, the registration becomes invalid.\\r\\nTimeline: Application can be submitted within 6 months of hospitalisation commencement date.\\r\\nHelpdesk:\\r\\nKarnataka Building And Other Construction Workers Welfare Board,\\r\\nAddress: Karmika Bhavan, Dairy Circle, Bannerghatta Road, Bangalore-29.\\r\\nOffice No: 080-29753078\\r\\nE-mail: labour.commissioner42@gmail.com\\ndocs_reqd: For Registration as a Building/ Construction Worker:\\r\\nEmployment Certificate/90 Days Work Certificate (Form V(A)/V(B)/V(C)/V(D)).\\r\\nAadhar Card (Self-Attested).\\r\\nRation Card(non-mandatory).\\r\\nAge Proof (Voter ID Card/Aadhar Card).\\r\\nFor the Application of the Welfare Scheme:\\r\\nDischarge Summary.\\r\\nForm 22A.\\r\\nTreatment Bill.\\r\\nSelf Declaration Form.\\r\\nEmployment Certificate/90 Days Work Certificate (Form V(A)/V(B)/V(C)/V(D)).\\r\\nFor the Renewal Process:\\r\\nEmployment Certificate/90 Days Work Certificate (Form V(A)/V(B)/V(C)/V(D)).'),\n",
              " Document(metadata={'source': '/content/schemes_data - Sheet1.csv', 'row': 3}, page_content='scheme_name: Accident Assistance (K.B.O.C.W.W.B)\\ndetails: \\nbenefits: Death Benefit: ₹5,00,000/- granted (50% in Fixed Deposit, 50% via cheque/DBT) to the first living nominee.\\r\\nPermanent Total Disablement Benefit: ₹2,00,000/- granted (50% in Fixed Deposit, 50% via cheque/DBT).\\r\\nPermanent Partial Disablement Benefit: ₹1,00,000/- granted proportionally (50% in Fixed Deposit, 50% via cheque/DBT).\\neligibility: For Registration as a Building/ Construction Worker:\\r\\nThe applicant should be a Building/ Construction Worker (Unorganised Worker).\\r\\nThe applicant should be a minimum of 18 years of age.\\r\\nThe applicant should have engaged in building and construction work for at least 90 days in a given year.\\r\\nFor the Application of the Welfare Scheme:\\r\\nThe applicant should be a registered construction worker Under the Building and Other Construction Workers Welfare Board of Karnataka.\\r\\nThe accident must occur either during the course of employment or outside of work.\\napp_process: Online\\r\\nRegistration Process as a Building/ Construction Worker:\\r\\nStep 1: Visit the official Website of Karnataka Building & Other Construction Workers Welfare Board (KBOCWWB) and click on “Register”.\\r\\nStep 2: Select “Register as New Construction Worker” then enter your mobile number as per the Aadhaar Registered and verify with the received OTP.\\r\\nStep 3: From the dashboard, click on “Registration”.\\r\\nStep 4: Fill in all the mandatory details and upload the required documents. Click on “Final Submit” to complete the registration process.\\r\\nApplication Process of the Welfare Scheme:\\r\\nStep 1: Visit the official Website of Karnataka Building & Other Construction Workers Welfare Board (KBOCWWB) and click on “Login”.\\r\\nStep 2: Enter your registered mobile number and the received OTP.\\r\\nStep 3: From the dashboard, click on “Schemes” (After the user Registration is approved, the user can access the schemes page).\\r\\nStep 4: Select the concerned scheme. Fill in all the mandatory details and upload the required documents.\\r\\nStep 5: Review the details and check the declaration box. Now click on “Submit” to complete the application process.\\r\\nRenewal Process:\\r\\nStep 1: Visit the official Website of Karnataka Building & Other Construction Workers Welfare Board (KBOCWWB) and click on “Login”.\\r\\nStep 2: Enter your registered mobile number and the received OTP.\\r\\nStep 3: From the dashboard, click on “Renewal”. Fill in mandatory details and upload the required documents.\\r\\nStep 4: Review the details and click on “Submit” to complete the renewal process.\\r\\nNote:\\r\\nRenewal: Every construction worker must renew their registration with the Karnataka Building and Other Construction Workers Welfare Board every 3 years. If not renewed within this period, a 1-year grace period is granted. After that, the registration becomes invalid.\\r\\nHelpdesk:\\r\\nKarnataka Building And Other Construction Workers Welfare Board,\\r\\nAddress: Karmika Bhavan, Dairy Circle, Bannerghatta Road, Bangalore-29.\\r\\nOffice No: 080-29753078\\r\\nE-mail: labour.commissioner42@gmail.com\\ndocs_reqd: For Registration as a Building/ Construction Worker:\\r\\nEmployment Certificate/90 Days Work Certificate (Form V(A)/V(B)/V(C)/V(D)).\\r\\nAadhar Card (Self-Attested).\\r\\nRation Card(non-mandatory).\\r\\nAge Proof (Voter ID Card/Aadhar Card).\\r\\nFor the Application of the Welfare Scheme:\\r\\nMedical Certificate.\\r\\nMedical Disability Certificate.\\r\\nDeath certificate.\\r\\nFIR COPY.\\r\\nPostmortem Report.\\r\\nSelf Declaration.\\r\\nFor the Renewal Process:\\r\\nEmployment Certificate/90 Days Work Certificate (Form V(A)/V(B)/V(C)/V(D)).'),\n",
              " Document(metadata={'source': '/content/schemes_data - Sheet1.csv', 'row': 4}, page_content='scheme_name: Assistance For Major Ailments (Karmika Chikitsa Bhagya) (K.B.O.C.W.W.B)\\ndetails: \\nbenefits: Financial Assistance: ₹2,00,000/- for major ailment treatments.\\neligibility: For Registration as a Building/ Construction Worker:\\r\\nThe applicant should be a Building/ Construction Worker (Unorganised Worker).\\r\\nThe applicant should be a minimum of 18 years of age.\\r\\nThe applicant should have engaged in building and construction work for at least 90 days in a given year.\\r\\nFor the Application of the Welfare Scheme:\\r\\nThe beneficiary should be a registered construction worker Under the Building and Other Construction Workers Welfare Board of Karnataka or his/her dependents.\\r\\nThe worker or their dependents must suffer from a major ailment specified in the scheme\\napp_process: Online\\r\\nRegistration Process as a Building/ Construction Worker:\\r\\nStep 1: Visit the official Website of Karnataka Building & Other Construction Workers Welfare Board (KBOCWWB) and click on “Register”.\\r\\nStep 2: Select “Register as New Construction Worker” then enter your mobile number as per the Aadhaar Registered and verify with the received OTP.\\r\\nStep 3: From the dashboard, click on “Registration”.\\r\\nStep 4: Fill in all the mandatory details and upload the required documents. Click on “Final Submit” to complete the registration process.\\r\\nApplication Process of the Welfare Scheme:\\r\\nStep 1: Visit the official Website of Karnataka Building & Other Construction Workers Welfare Board (KBOCWWB) and click on “Login”.\\r\\nStep 2: Enter your registered mobile number and the received OTP.\\r\\nStep 3: From the dashboard, click on “Schemes” (After the user Registration is approved, the user can access the schemes page).\\r\\nStep 4: Select the concerned scheme. Fill in all the mandatory details and upload the required documents.\\r\\nStep 5: Review the details and check the declaration box. Now click on “Submit” to complete the application process.\\r\\nRenewal Process:\\r\\nStep 1: Visit the official Website of Karnataka Building & Other Construction Workers Welfare Board (KBOCWWB) and click on “Login”.\\r\\nStep 2: Enter your registered mobile number and the received OTP.\\r\\nStep 3: From the dashboard, click on “Renewal”. Fill in mandatory details and upload the required documents.\\r\\nStep 4: Review the details and click on “Submit” to complete the renewal process.\\r\\nNote:\\r\\nRenewal: Every construction worker must renew their registration with the Karnataka Building and Other Construction Workers Welfare Board every 3 years. If not renewed within this period, a 1-year grace period is granted. After that, the registration becomes invalid.\\r\\nTimeline: Application can be submitted within 6 months of hospitalisation commencement date.\\r\\nList of private hospitals recognised by the Government for medical reimbursement.\\r\\nHelpdesk:\\r\\nKarnataka Building And Other Construction Workers Welfare Board,\\r\\nAddress: Karmika Bhavan, Dairy Circle, Bannerghatta Road, Bangalore-29.\\r\\nOffice No: 080-29753078\\r\\nE-mail: labour.commissioner42@gmail.com\\ndocs_reqd: '),\n",
              " Document(metadata={'source': '/content/schemes_data - Sheet1.csv', 'row': 5}, page_content='scheme_name: Shramashakthi Special Women\\'s Scheme\\ndetails: The \"Shramashakthi Special Women\\'s Scheme\" was launched by the Minorities Welfare Department, Government of Karnataka, and implemented by the Karnataka Minorities Development Corporation. This is a special scheme for the economic empowerment of widowed, divorced, unmarried women of the minority community. Under this scheme, ₹25,000/- loan and ₹25,000/- subsidy will be provided to undertake various economic activities.\\nbenefits: A total of ₹50,000/- is provided, comprising ₹25,000/- as a loan and ₹25,000/- as a subsidy.\\neligibility: he applicant should be a female. The applicant should be a widowed, divorced, unmarried woman. The applicant should belong to a religious minority community as defined in the Government Order.The applicant should be a permanent resident of Karnataka.The applicant\\'s age should be between 18 to 55 years.The annual family income of the applicant from all sources should be below ₹3,50,000/-.The applicant\\'s family member should not be a State/Central Government employee. The applicant or family members should not have availed of benefits under any other scheme (Excluding the Arivu Scheme) of the KMDCL in the last 5 years.\\napp_process: Step-01: Applicant need to visits the Karnataka Minorities Development Corporation official website.  \\nStep-02: Click \"Apply Online\" and Enter \"Mobile Number\" and \"Submit\".   \\nStep-03: Enter \"Aadhaar Number\" Fill in the \"Captcha\" and Select \"Next\".\\nStep-04: Applicant will get OTP in his/her Aadhaar Linked Mobile Number.\\nStep-05: Enter \"OTP\" and select \"Continue\", After that Allow the official notice.\\nStep-06: After verifying the Aadhaar again fill in the \"OTP\" and Submit.\\nStep-07: Select the scheme \"Sikhligar’s Community Development Scheme\" and fill in the basic details father\\'s name, gender, qualification detail\\nStep-08: Select \"Next\" Fill in the address detail and again select \"Next\".\\nStep-09: Upload the required document passport-size photo, educational document, income certificate, etc. \\nStep-10: Click \"Proceed\" and Select \"Submit Application\" and get an Application ID.\\ndocs_reqd: Project Report.Caste/Minority Certificate (issued by the competent authority).Income Certificate (issued by the competent authority).Copy of Aadhaar as Residential Proof.Copy of Bank Passbook.Self-Declaration Form from Surety.Self-Declaration Form.'),\n",
              " Document(metadata={'source': '/content/schemes_data - Sheet1.csv', 'row': 6}, page_content='scheme_name: Kayaka Spoorthi Scheme Karnataka\\ndetails: The \"Kayaka Spoorthi Scheme\" aims to provide financial assistance to women Self-Help Groups (SHGs) engaged in the leather industry. The goal is to promote self-sufficiency and economic independence by enabling these women to start or expand business activities related to leatherwork. A group of 10 members receives financial support under this scheme.\\nbenefits: \\neligibility: \\napp_process: \\ndocs_reqd: '),\n",
              " Document(metadata={'source': '/content/schemes_data - Sheet1.csv', 'row': 7}, page_content='scheme_name: \\ndetails: \\nbenefits: \\neligibility: \\napp_process: \\ndocs_reqd: '),\n",
              " Document(metadata={'source': '/content/schemes_data - Sheet1.csv', 'row': 8}, page_content='scheme_name: \\ndetails: \\nbenefits: \\neligibility: \\napp_process: \\ndocs_reqd: '),\n",
              " Document(metadata={'source': '/content/schemes_data - Sheet1.csv', 'row': 9}, page_content='scheme_name: \\ndetails: \\nbenefits: \\neligibility: \\napp_process: \\ndocs_reqd: '),\n",
              " Document(metadata={'source': '/content/schemes_data - Sheet1.csv', 'row': 10}, page_content='scheme_name: \\ndetails: \\nbenefits: \\neligibility: \\napp_process: \\ndocs_reqd: '),\n",
              " Document(metadata={'source': '/content/schemes_data - Sheet1.csv', 'row': 11}, page_content='scheme_name: \\ndetails: \\nbenefits: \\neligibility: \\napp_process: \\ndocs_reqd: '),\n",
              " Document(metadata={'source': '/content/schemes_data - Sheet1.csv', 'row': 12}, page_content='scheme_name: ICMR- Post Doctoral Fellowship\\ndetails: ICMR- Post Doctoral Fellowship (ICMR-PDF) Scheme is being instituted to foster high-quality research opportunities for promising fresh Ph.D./MD/MS holders in the cutting-edge areas of basic science, communicable and non-communicable diseases, and reproductive health including nutrition at ICMR Institutes /Centers. Special focus will be on fundamental research in areas of science and other priority areas identified by ICMR from time to time. ICMR intends to offer fifty (50) such fellowships every year for working in ICMR Institutes/Centers with state-of-the-art R&D facilities. These fellowships will be allocated by the Director General, ICMR, depending upon the needs of the ICMR Institute/Centre.\\nbenefits: ICMR-PDFs will be paid a consolidated fellowship of ₹65,000/- per month plus House Rent Allowance (HRA) as per Govt. of India rule and Non-Practicing allowance (NPA) as admissible.There is a contingency grant of ₹3,00,000/- per annum.25% of the contingency grant can be used for travel including per diem expenses (only for National travel, related to ICMR-PDF proposed research work only).\\neligibility: ICMR-PDF is open to Indian nationals only.Fresh PhDs/MD/MS within three years of completing their Ph.D./MD/MS degree (awarded) as on the last date of the application and also those who have received their provisional Ph.D./MD/MS degree can apply.The Post-Doctoral proposed research work should be the continuation of the Ph.D. or MD/MS research work. If not, then the application will not be considered.The maximum age limit is 32 years, relaxable up to 5 years in case of SC/ST/OBC/PH and women candidates, as on the last date of application.For deserving candidates age can be relaxed maximum up to a maximum of 3 years based on earlier work done, publications, awards, etc. along with the request by the sponsoring Director/Director-in-Charge. Director General, ICMR may consider and relax on the recommendation of the screening committee.The PDF Guide should have the minimum designation of Scientist-C grade.Postgraduate medical students are also permitted to carry out ICMR’s PDF in MCI-recognized postgraduate medical colleges wherein a minimum of three batches have obtained their postgraduate degrees.\\napp_process: Step 01: Eligible candidates can visit the official website of ICMR and download the application form.\\nStep 02: Fill out the application form completely and sign as required.\\nStep 03: No column of the application form should be left blank. Kindly write NA/Nil as applicable.\\nStep 04: Use additional sheets where necessary, with relevant columns drawn thereon, inserting proper references.\\nStep 05: The completed application should be accompanied by all the requisite documents and attach self-attested photocopies of all documents as required.\\nStep 06:  Applications duly filled in the prescribed format and complete in all respects should be sent to:\\ndocs_reqd: ')]"
            ]
          },
          "execution_count": 56,
          "metadata": {},
          "output_type": "execute_result"
        }
      ],
      "source": [
        "from langchain_community.document_loaders import CSVLoader\n",
        "loader=CSVLoader(\"/content/schemes_data - Sheet1.csv\")\n",
        "text_documents=loader.load()\n",
        "text_documents"
      ]
    },
    {
      "cell_type": "code",
      "execution_count": 69,
      "metadata": {
        "id": "rKbTr4DZDM0B"
      },
      "outputs": [],
      "source": [
        "from sentence_transformers import SentenceTransformer\n",
        "from langchain.vectorstores import Chroma\n",
        "from langchain.embeddings import HuggingFaceEmbeddings\n",
        "\n",
        "# Load a pre-trained Sentence Transformer model\n",
        "model_name = \"all-MiniLM-L6-v2\"\n",
        "embeddings = HuggingFaceEmbeddings(model_name=model_name)\n",
        "\n",
        "# Extract text from documents\n",
        "# Assuming text_documents is a list of Document objects from LangChain\n",
        "text_list = [doc.page_content for doc in text_documents]\n",
        "\n",
        "# Create a ChromaDB vector store directly using LangChain's integration\n",
        "db = Chroma.from_texts(\n",
        "    texts=text_list,\n",
        "    embedding=embeddings,\n",
        "    persist_directory=\"./chroma_db\"  # Optional: specify where to save the database\n",
        ")\n",
        "\n",
        "# Example of how to query the database\n",
        "query = \"Thayi Bhagya Scheme\"\n",
        "results = db.similarity_search(query, k=3)  # Return top 3 similar documents"
      ]
    },
    {
      "cell_type": "code",
      "execution_count": 70,
      "metadata": {
        "colab": {
          "base_uri": "https://localhost:8080/"
        },
        "id": "OUTiqQPDEBU0",
        "outputId": "1f5be7db-2fe9-4bbc-986a-f760ef7294c7"
      },
      "outputs": [
        {
          "name": "stdout",
          "output_type": "stream",
          "text": [
            "scheme_name: Thayi Bhagya Scheme\n",
            "details: Under this scheme, the pregnant woman belonging to BPL family can avail delivery services free of cost in the registered private hospital near her house. She is not required to pay any charges right from the point of admission to discharge. The benefit is limited to the first two live deliveries.\r\n",
            "The beneficiaries are identified through the ANC cards issued to them.\r\n",
            "The scheme has been introduced in the six \"C\" category districts of Gulbarga, Bidar, Raichur, Koppal, Bijapur and Bagalkot and the backward district Chamarajanagar.\r\n",
            "\r\n",
            "i. Shortage of specialist doctors, especially the gynecologists, anesthetists and pediatricians at Taluk hospitals and CHCs, The posts of these specialists are mostly vacant in Government Hospitals.\r\n",
            "ii. Though there are very large number of government health care institutions in the state, the shortage of these specialists is a big draw back in providing proper maternal and child health care.\r\n",
            "iii.There are considerable number of specialist doctors in urban private hospitals.\r\n",
            "iv. By entering into Public-Private partnership with these hospitals, rural women can be provided with facilities for proper institutional deliveries.\r\n",
            "\r\n",
            "The hospitals having requisite facilities will be registered under the programme with the approval of District Health Society. The Hospitals will then sign an MOU with the Department. Government Hospitals can also participate in this scheme.\r\n",
            "\r\n",
            "Such registered hospitals will be paid Rs. 3.00 lakhs per 100 deliveries, which include normal delivery, complicated deliveries, caesarian, forceps deliveries etc. These hospitals will be paid 10% ie., Rs.30,000 advance on participation in the scheme. This is to encourage more and more private hospitals to participate in the programme.\r\n",
            "The Government Hospitals will be paid Rs. 1.50 lakhs for every 100 deliveries, out of which 50,000 goes to the Health Care Committee and the remaining is shared among the Hospital doctors, nurses and staff as per Yeshaswini guidelines.​\n",
            "benefits: The scheme provides benefits in the form of delivery services free of costs and others.\r\n",
            "Women belonging to BPL families can avail totally cashless treatment in theses private hospitals or can avail delivery services free of cost in the registered private hospital near her house.\r\n",
            "Registered private hospital will be available near her house.\r\n",
            "Candidate is not required to pay any charges right from the point of admission to discharge.\r\n",
            "Free checkup and medicines will be provided.\n",
            "eligibility: The benefit is limited to the first two deliveries.\n",
            "The candidate women must be residents of Karnataka government\n",
            "The hospital should have minimum 10 inpatient beds.\n",
            "Should have proper functional Operation Theater and Delivery room.\n",
            "24 hrs availability of gynecologists, anesthetists and pediatricians.\n",
            "Should have link with Blood banks.\n",
            "The DHO has to identify such hospitals and invite them for partnership. Interested hospitals can sign the MOU.\n",
            "Such registered hospitals will be paid Rs. 3.00 lakhs per 100 deliveries, which include normal delivery, complicated deliveries, caesarean, forceps deliveries etc. These hospitals will be paid 10% ie., Rs.30,000 advance on participation in the scheme. This is to encourage more and more private hospitals to participate in the program.\r\n",
            "The Government Hospitals will be paid Rs. 1.50 lakhs for every 100 deliveries, out of which 50,000 goes to the Health Care Committee and the remaining is shared among the Hospital doctors, nurses and staff as per Yeshaswini guidelines.​\n",
            "app_process: Offline\r\n",
            "The pregnant women have to register their names with the Junior Female Health Assistant of the area.\r\n",
            "The women will issue ANC card.\r\n",
            "The beneficiaries are identified through the ANC cards issued to them.\r\n",
            "Then candidates can avail benefits from nearer registered hospitals.\r\n",
            "\r\n",
            "Candidate applicants can contact the Head office from where the scheme is operated.\r\n",
            "Email: prs-hfw@karnataka.gov.in\n",
            "docs_reqd: Domicile certificate\r\n",
            "BPL card or Ration card\r\n",
            "Caste certificate\r\n",
            "Aadhar Card\r\n",
            "ANC registration number along with noting whether it is first or second delivery\n"
          ]
        }
      ],
      "source": [
        "print(results[0].page_content)"
      ]
    }
  ],
  "metadata": {
    "colab": {
      "provenance": []
    },
    "kernelspec": {
      "display_name": "Python 3",
      "name": "python3"
    },
    "language_info": {
      "name": "python"
    }
  },
  "nbformat": 4,
  "nbformat_minor": 0
}
